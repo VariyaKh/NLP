{
 "cells": [
  {
   "cell_type": "markdown",
   "metadata": {
    "id": "KcnWf1xywQ1B"
   },
   "source": [
    "## Домашнее задание №1. Базовая работа с текстами"
   ]
  },
  {
   "cell_type": "code",
   "execution_count": 1,
   "metadata": {
    "id": "jPiaakWJwQ1O"
   },
   "outputs": [],
   "source": [
    "import numpy as np\n",
    "import matplotlib.pyplot as plt\n",
    "%matplotlib inline\n",
    "import pandas as pd\n",
    "from IPython import display"
   ]
  },
  {
   "cell_type": "markdown",
   "metadata": {
    "id": "X8rKQlj9wQ1Q"
   },
   "source": [
    "### Классификация токсичных комментариев\n",
    "В данном задании вам предстоит построить классификатор для фильтрации токсичных сообщений в Twitter. Базового знакомтства с `Python` и методами из `sklearn` должно быть достаточно для выполнения задания. Если вы уже знакомы с `PyTorch`, можете воспользоваться и им.\n",
    "\n",
    "__Комментарий:__ В ноутбуке присутствуют `assert`'ы для локальной проверки кода. В большинстве случаев они могут помочь найти ошибку. В некоторых (как правило, редких) случаях они могут сработать и при корректной реализации: если такое произошло, проверьте код еще раз и, по необходимости, напишите преподавателям. Если вы четко понимаете, что `assert` не срабатывает, но реализация подходит для решаемой задачи, то вы можете закомментировать его.\n",
    "\n",
    "*Credits: This homework is inspired by [YSDA NLP course](https://github.com/yandexdataschool/nlp_course).*"
   ]
  },
  {
   "cell_type": "code",
   "execution_count": 2,
   "metadata": {
    "id": "9W04ShZhwQ1S"
   },
   "outputs": [],
   "source": [
    "# In colab run this cell\n",
    "# ! wget https://raw.githubusercontent.com/girafe-ai/ml-mipt/advanced_f20/homeworks_advanced/assignment1_01_Word_Vectors/features.py -nc"
   ]
  },
  {
   "cell_type": "markdown",
   "metadata": {
    "id": "U2OIvtUjwQ1U"
   },
   "source": [
    "Файл `features.py` может быть полезен для дальнейшего выполнения задания. \n",
    "\n",
    "__Если вы работаете в Colab, не забудьте скачать как ноутбук, так и те файлы, в которые вы внесли изменения. При закрытии Colab эти файлы будут удалены через некоторое время__."
   ]
  },
  {
   "cell_type": "code",
   "execution_count": 3,
   "metadata": {
    "id": "--mwJ-TWwQ1W"
   },
   "outputs": [
    {
     "name": "stdout",
     "output_type": "stream",
     "text": [
      "File ‘comments.tsv’ already there; not retrieving.\r\n",
      "\r\n"
     ]
    }
   ],
   "source": [
    "try:\n",
    "    data = pd.read_csv('../../datasets/comments_small_dataset/comments.tsv', sep='\\t')\n",
    "except FileNotFoundError:\n",
    "    ! wget https://raw.githubusercontent.com/girafe-ai/ml-mipt/advanced_f20/datasets/comments_small_dataset/comments.tsv -nc\n",
    "    data = pd.read_csv(\"comments.tsv\", sep='\\t')"
   ]
  },
  {
   "cell_type": "code",
   "execution_count": 4,
   "metadata": {
    "id": "7wgm60_NwQ1X"
   },
   "outputs": [
    {
     "data": {
      "text/html": [
       "<div>\n",
       "<style scoped>\n",
       "    .dataframe tbody tr th:only-of-type {\n",
       "        vertical-align: middle;\n",
       "    }\n",
       "\n",
       "    .dataframe tbody tr th {\n",
       "        vertical-align: top;\n",
       "    }\n",
       "\n",
       "    .dataframe thead th {\n",
       "        text-align: right;\n",
       "    }\n",
       "</style>\n",
       "<table border=\"1\" class=\"dataframe\">\n",
       "  <thead>\n",
       "    <tr style=\"text-align: right;\">\n",
       "      <th></th>\n",
       "      <th>should_ban</th>\n",
       "      <th>comment_text</th>\n",
       "    </tr>\n",
       "  </thead>\n",
       "  <tbody>\n",
       "    <tr>\n",
       "      <th>50</th>\n",
       "      <td>0</td>\n",
       "      <td>\"Those who're in advantageous positions are th...</td>\n",
       "    </tr>\n",
       "    <tr>\n",
       "      <th>250</th>\n",
       "      <td>1</td>\n",
       "      <td>Fartsalot56 says f**k you motherclucker!!</td>\n",
       "    </tr>\n",
       "    <tr>\n",
       "      <th>450</th>\n",
       "      <td>1</td>\n",
       "      <td>Are you a fool? \\n\\nI am sorry, but you seem t...</td>\n",
       "    </tr>\n",
       "    <tr>\n",
       "      <th>650</th>\n",
       "      <td>1</td>\n",
       "      <td>I AM NOT A VANDAL!!!!!!!!!!!!!!!!!!!!!!!!!!!!!!</td>\n",
       "    </tr>\n",
       "    <tr>\n",
       "      <th>850</th>\n",
       "      <td>0</td>\n",
       "      <td>Citing sources\\n\\nCheck out the Wikipedia:Citi...</td>\n",
       "    </tr>\n",
       "  </tbody>\n",
       "</table>\n",
       "</div>"
      ],
      "text/plain": [
       "     should_ban                                       comment_text\n",
       "50            0  \"Those who're in advantageous positions are th...\n",
       "250           1          Fartsalot56 says f**k you motherclucker!!\n",
       "450           1  Are you a fool? \\n\\nI am sorry, but you seem t...\n",
       "650           1    I AM NOT A VANDAL!!!!!!!!!!!!!!!!!!!!!!!!!!!!!!\n",
       "850           0  Citing sources\\n\\nCheck out the Wikipedia:Citi..."
      ]
     },
     "execution_count": 4,
     "metadata": {},
     "output_type": "execute_result"
    }
   ],
   "source": [
    "texts = data['comment_text'].values\n",
    "target = data['should_ban'].values\n",
    "data[50::200]"
   ]
  },
  {
   "cell_type": "code",
   "execution_count": 5,
   "metadata": {},
   "outputs": [
    {
     "data": {
      "text/plain": [
       "(1000, 2)"
      ]
     },
     "execution_count": 5,
     "metadata": {},
     "output_type": "execute_result"
    }
   ],
   "source": [
    "data.shape"
   ]
  },
  {
   "cell_type": "code",
   "execution_count": 6,
   "metadata": {},
   "outputs": [
    {
     "data": {
      "text/plain": [
       "0.508"
      ]
     },
     "execution_count": 6,
     "metadata": {},
     "output_type": "execute_result"
    }
   ],
   "source": [
    "data['should_ban'].mean()"
   ]
  },
  {
   "cell_type": "code",
   "execution_count": 7,
   "metadata": {
    "id": "5zmipZ9uwQ1Y"
   },
   "outputs": [],
   "source": [
    "from sklearn.model_selection import train_test_split\n",
    "texts_train, texts_test, y_train, y_test = train_test_split(texts, target, test_size=0.5, random_state=42)"
   ]
  },
  {
   "cell_type": "markdown",
   "metadata": {
    "id": "2RewqztCwQ1a"
   },
   "source": [
    "__Комментарий:__ Лучше разбить данные на train и test до любых манипуляций с данными. Это позволит избежать утечки данных."
   ]
  },
  {
   "cell_type": "markdown",
   "metadata": {
    "id": "PSsekHmHwQ1b"
   },
   "source": [
    "### Предобработка данных и токенизация.\n",
    "\n",
    "В доступных данных присутствуют знаки препинания, символы верхнего и нижнего регистра, переносы строк и пр. Для упрощения структуры данных полезно будет их предобработать. Один из простейших способов: разбить текст на последовательность токенов (например, разделяя их по пробелам). Вы можете сделать это вручную, или же воспользоваться библиотекой [`nltk`](https://www.nltk.org). Эта библиотека широко используется в задачах обработки текста. Базовое знакомство с этой библиотекой пригодится вам в дальнейшем."
   ]
  },
  {
   "cell_type": "code",
   "execution_count": 8,
   "metadata": {
    "id": "DUzmxZ3mwQ1b"
   },
   "outputs": [
    {
     "name": "stdout",
     "output_type": "stream",
     "text": [
      "before: How to be a grown-up at work: replace \"I don't want to do that\" with \"Ok, great!\".\n",
      "after: how to be a grown-up at work : replace \" i don't want to do that \" with \" ok , great ! \" .\n"
     ]
    }
   ],
   "source": [
    "from nltk.tokenize import TweetTokenizer\n",
    "tokenizer = TweetTokenizer()\n",
    "preprocess = lambda text: ' '.join(tokenizer.tokenize(text.lower()))\n",
    "\n",
    "text = 'How to be a grown-up at work: replace \"I don\\'t want to do that\" with \"Ok, great!\".'\n",
    "print(\"before:\", text,)\n",
    "print(\"after:\", preprocess(text),)"
   ]
  },
  {
   "cell_type": "code",
   "execution_count": 9,
   "metadata": {
    "id": "n3Z8VMYJwQ1g"
   },
   "outputs": [],
   "source": [
    "# task: preprocess each comment in train and test\n",
    "vec_preprocess = np.vectorize(preprocess)\n",
    "\n",
    "texts_train = vec_preprocess(texts_train)\n",
    "texts_test = vec_preprocess(texts_test)"
   ]
  },
  {
   "cell_type": "code",
   "execution_count": 10,
   "metadata": {},
   "outputs": [
    {
     "data": {
      "text/plain": [
       "'... oh and what kind of person watches another persons mytalk page ? stalker !'"
      ]
     },
     "execution_count": 10,
     "metadata": {},
     "output_type": "execute_result"
    }
   ],
   "source": [
    "texts_train[0]"
   ]
  },
  {
   "cell_type": "code",
   "execution_count": 11,
   "metadata": {
    "id": "VB5T-XYcwQ1i"
   },
   "outputs": [],
   "source": [
    "# Small check that everything is done properly\n",
    "assert texts_train[5] ==  'who cares anymore . they attack with impunity .'\n",
    "assert texts_test[89] == 'hey todds ! quick q ? why are you so gay'\n",
    "assert len(texts_test) == len(y_test)"
   ]
  },
  {
   "cell_type": "markdown",
   "metadata": {
    "id": "HS4u4H91wQ1i"
   },
   "source": [
    "### Шаг 1: Bag of Words\n",
    "\n",
    "Один из классических подходов к векторизации текстов. Алгоритм построения \"мешка слов\":\n",
    "\n",
    "1. Построить словарь на основе обучающей выборки (только train части). Исключить наиболее редкие слова.\n",
    "2. Для каждого объекта (текста) в обучающей выборке подсчитать количество вхождений каждого из слов.\n",
    "3. Представить объект в виде набора счетчиков вошедших в него слов.\n",
    "\n",
    "\n",
    "В качестве шаблона вы можете воспользоваться структурой класса `BoW` в файле `features.py`.\n",
    "\n",
    "__Комментарий:__ на практике вы можете обратиться к готовым реализациям (например, к библиотеке `sklearn`). __Но в данном задании ваша задача реализовать BoW самостоятельно.__\n",
    "*Для самопроверки вы можете воспользоваться существующими реализациями:*\n",
    "\n",
    "`from sklearn.feature_extraction.text import CountVectorizer, TfidfVectorizer`"
   ]
  },
  {
   "cell_type": "code",
   "execution_count": 12,
   "metadata": {},
   "outputs": [],
   "source": [
    "from collections import Counter\n",
    "from sklearn.base import TransformerMixin\n",
    "from typing import List, Union"
   ]
  },
  {
   "cell_type": "code",
   "execution_count": 13,
   "metadata": {},
   "outputs": [],
   "source": [
    "class BoW(TransformerMixin):\n",
    "    \"\"\"\n",
    "    Bag of words tranformer class\n",
    "    \n",
    "    check out:\n",
    "    https://scikit-learn.org/stable/modules/generated/sklearn.base.TransformerMixin.html\n",
    "    to know about TransformerMixin class\n",
    "    \"\"\"\n",
    "\n",
    "    def __init__(self, k: int):\n",
    "        \"\"\"\n",
    "        :param k: number of most frequent tokens to use\n",
    "        \"\"\"\n",
    "        self.k = k\n",
    "        self.bow = None\n",
    "\n",
    "    def fit(self, X: np.ndarray, y=None):\n",
    "        \"\"\"\n",
    "        :param X: array of texts to be trained on\n",
    "        \"\"\"\n",
    "        # task: find up to self.k most frequent tokens in texts_train,\n",
    "        # sort them by number of occurences (highest first)\n",
    "        # store most frequent tokens in self.bow\n",
    "        freq = Counter()\n",
    "        for text in X:\n",
    "            freq.update(text.split())\n",
    "        most_common_tokens = freq.most_common(self.k)\n",
    "        self.bow = [token for token, _ in most_common_tokens]\n",
    "\n",
    "        # fit method must always return self\n",
    "        return self\n",
    "\n",
    "    def _text_to_bow(self, text: str) -> np.ndarray:\n",
    "        \"\"\"\n",
    "        convert text string to an array of token counts. Use self.bow.\n",
    "        :param text: text to be transformed\n",
    "        :return bow_feature: feature vector, made by bag of words\n",
    "        \"\"\"\n",
    "\n",
    "        freq = Counter(text.split())\n",
    "        result = [freq[word] for word in self.bow]\n",
    "        \n",
    "        return np.array(result, \"float32\")\n",
    "\n",
    "    def transform(self, X: np.ndarray, y=None) -> np.ndarray:\n",
    "        \"\"\"\n",
    "        :param X: array of texts to transform\n",
    "        :return: array of transformed texts\n",
    "        \"\"\"\n",
    "        assert self.bow is not None\n",
    "        return np.stack([self._text_to_bow(text) for text in X])\n",
    "\n",
    "    def get_vocabulary(self) -> Union[List[str], None]:\n",
    "        return self.bow"
   ]
  },
  {
   "cell_type": "code",
   "execution_count": 14,
   "metadata": {
    "id": "7PcwYe1gwQ1j"
   },
   "outputs": [
    {
     "data": {
      "text/plain": [
       "<__main__.BoW at 0x7f0601e84f60>"
      ]
     },
     "execution_count": 14,
     "metadata": {},
     "output_type": "execute_result"
    }
   ],
   "source": [
    "# task: find up to k most frequent tokens in texts_train,\n",
    "# sort them by number of occurences (highest first)\n",
    "k = min(10000, len(set(' '.join(texts_train).split())))\n",
    "\n",
    "\n",
    "bow = BoW(k)\n",
    "bow.fit(texts_train)"
   ]
  },
  {
   "cell_type": "code",
   "execution_count": 15,
   "metadata": {
    "id": "sCmdWGtWwQ1j"
   },
   "outputs": [],
   "source": [
    "# Example template for transformation\n",
    "X_train_bow = bow.transform(texts_train)\n",
    "X_test_bow = bow.transform(texts_test)"
   ]
  },
  {
   "cell_type": "code",
   "execution_count": 16,
   "metadata": {
    "id": "JuW5GV6kwQ1k"
   },
   "outputs": [],
   "source": [
    "# Small check that everything is done properly\n",
    "bow_vocabulary = bow.get_vocabulary()\n",
    "k_max = len(set(' '.join(texts_train).split()))\n",
    "assert X_train_bow.shape == (len(texts_train), min(k, k_max))\n",
    "assert X_test_bow.shape == (len(texts_test), min(k, k_max))\n",
    "assert np.all(X_train_bow[5:10].sum(-1) == np.array([len(s.split()) for s in  texts_train[5:10]]))\n",
    "assert len(bow_vocabulary) <= min(k, k_max)\n",
    "assert X_train_bow[6, bow_vocabulary.index('.')] == texts_train[6].split().count('.')"
   ]
  },
  {
   "cell_type": "markdown",
   "metadata": {
    "id": "U-Pf2wLmwQ1l"
   },
   "source": [
    "Воспользуемся логистической регрессией из `sklearn` в качестве базовой модели:"
   ]
  },
  {
   "cell_type": "code",
   "execution_count": 17,
   "metadata": {
    "id": "F79GcJ9WwQ1l"
   },
   "outputs": [],
   "source": [
    "from sklearn.linear_model import LogisticRegression\n",
    "bow_model = LogisticRegression().fit(X_train_bow, y_train)"
   ]
  },
  {
   "cell_type": "code",
   "execution_count": 18,
   "metadata": {
    "id": "9EcJG4XDwQ1m"
   },
   "outputs": [
    {
     "data": {
      "image/png": "[encoded data removed]",
      "text/plain": [
       "<Figure size 432x288 with 1 Axes>"
      ]
     },
     "metadata": {
      "needs_background": "light"
     },
     "output_type": "display_data"
    }
   ],
   "source": [
    "from sklearn.metrics import roc_auc_score, roc_curve\n",
    "\n",
    "for name, X, y, model in [\n",
    "    ('train', X_train_bow, y_train, bow_model),\n",
    "    ('test ', X_test_bow, y_test, bow_model)\n",
    "]:\n",
    "    proba = model.predict_proba(X)[:, 1]\n",
    "    auc = roc_auc_score(y, proba)\n",
    "    plt.plot(*roc_curve(y, proba)[:2], label='%s AUC=%.4f' % (name, auc))\n",
    "\n",
    "plt.plot([0, 1], [0, 1], '--', color='black',)\n",
    "plt.legend(fontsize='large')\n",
    "plt.grid()"
   ]
  },
  {
   "cell_type": "markdown",
   "metadata": {
    "id": "61B5NNVcwQ1n"
   },
   "source": [
    "### Шаг 2: TF-IDF\n",
    "\n",
    "Не все слова одинаково полезны при решении задачи классификации. Чтобы учесть этот факт, воспользуемся TF-IDF (__text frequency/inverse document frequence__):\n",
    "\n",
    "$$ feature_i = { Count(word_i \\in x) \\times { log {N \\over Count(word_i \\in D) + \\alpha} }}, $$\n",
    "\n",
    "где  $x$ пример из коллекции (обучающей выборки) $D$, $N$ – общее число примеров, а $\\alpha$ – гиперпараметр, отвечающий за сглаживание (обычно равен единице). $\\text{Count}(word_i \\in D)$ – число документов, в которые попало слово $word_i$.\n",
    "\n",
    "Также может быть полезной отнормировать данные после подсчета TF-IDF. \n",
    "\n",
    "__Ваша задача:__ реализовать TF-IDF, обучить модель и оценить ее качество (аналогично BoW). Сравните полученные результаты с Bag of Words и сделайте промежуточные выводы."
   ]
  },
  {
   "cell_type": "markdown",
   "metadata": {
    "id": "ee61U-SHwQ10"
   },
   "source": [
    "В качестве шаблона вы можете воспользоваться структурой класса `TfIdf` в файле `features.py`.\n",
    "\n",
    "*Для самопроверки вы можете воспользоваться существующими реализациями:*\n",
    "\n",
    "`from sklearn.feature_extraction.text import CountVectorizer, TfidfVectorizer`\n",
    "\n",
    "Подробнее о TF-IDF можно прочитать здесь: https://triton.ml/blog/tf-idf-from-scratch"
   ]
  },
  {
   "cell_type": "code",
   "execution_count": 19,
   "metadata": {},
   "outputs": [],
   "source": [
    "from collections import OrderedDict"
   ]
  },
  {
   "cell_type": "code",
   "execution_count": 20,
   "metadata": {
    "id": "Qv5cHssKwQ10"
   },
   "outputs": [],
   "source": [
    "class TfIdf(TransformerMixin):\n",
    "    \"\"\"\n",
    "    Tf-Idf tranformer class\n",
    "    if you have troubles implementing Tf-Idf, check out:\n",
    "    https://streamsql.io/blog/tf-idf-from-scratch\n",
    "    \"\"\"\n",
    "\n",
    "    def __init__(self, k: int = None, normalize: bool = False, alpha: float = 0):\n",
    "        \"\"\"\n",
    "        :param k: number of most frequent tokens to use\n",
    "        if set k equals None, than all words in train must be considered\n",
    "        :param normalize: if True, you must normalize each data sample\n",
    "        after computing tf-idf features\n",
    "        \"\"\"\n",
    "        self.k = k\n",
    "        self.normalize = normalize\n",
    "        self.alpha = alpha\n",
    "\n",
    "        # self.idf[term] = log(total # of documents / # of documents with term in it)\n",
    "        self.idf = OrderedDict()\n",
    "        \n",
    "\n",
    "    def fit(self, X: np.ndarray, y=None):\n",
    "        \"\"\"\n",
    "        :param X: array of texts to be trained on\n",
    "        \"\"\"\n",
    "        freq = Counter()\n",
    "        doc_with_word = {} # of documents with term in it\n",
    "        for text in X:\n",
    "            freq.update(text.split())\n",
    "            for token in set(text.split()):\n",
    "                doc_with_word.setdefault(token, 0)\n",
    "                doc_with_word[token] += 1\n",
    "             \n",
    "        most_common_tokens = freq.most_common(self.k)\n",
    "        total_of_doc = X.shape[0]\n",
    "        self.idf = {token: total_of_doc / (doc_with_word[token] + self.alpha) for token, _ in most_common_tokens}\n",
    "        \n",
    " \n",
    "        # fit method must always return self\n",
    "        return self\n",
    "\n",
    "    def _text_to_tf_idf(self, text: str) -> np.ndarray:\n",
    "        \"\"\"\n",
    "        convert text string to an array tf-idfs.\n",
    "        *Note* don't forget to normalize, when self.normalize == True\n",
    "        :param text: text to be transformed\n",
    "        :return tf_idf: tf-idf features\n",
    "        \"\"\"\n",
    "\n",
    "        freq = Counter(text.split())\n",
    "        total_tokens_in_doc = len(text.split())\n",
    "        result = [(freq[token]/total_tokens_in_doc) * (np.log(self.idf[token]) + 1) for token in self.idf]\n",
    "        if self.normalize:\n",
    "            return np.array(result, \"float32\") / (np.linalg.norm(result) + 1e-7)\n",
    "        return np.array(result, \"float32\")\n",
    "\n",
    "    def transform(self, X: np.ndarray, y=None) -> np.ndarray:\n",
    "        \"\"\"\n",
    "        :param X: array of texts to transform\n",
    "        :return: array of transformed texts\n",
    "        \"\"\"\n",
    "        assert self.idf is not None\n",
    "        return np.stack([self._text_to_tf_idf(text) for text in X])"
   ]
  },
  {
   "cell_type": "code",
   "execution_count": 21,
   "metadata": {},
   "outputs": [],
   "source": [
    "def test_tfidf():\n",
    "    from sklearn.feature_extraction.text import TfidfVectorizer\n",
    "    test_text = np.array(['mom dad cat dog mom',\n",
    "                         'mom', \n",
    "                         'mom', \n",
    "                         'mom cat baby'])\n",
    "    tfidf = TfIdf(5, alpha=0, normalize=True)\n",
    "    tfidf.fit(test_text)\n",
    "    test_text_idf = tfidf.transform(test_text)\n",
    "    \n",
    "    sklearn_tfidf = TfidfVectorizer(max_features=5, smooth_idf=False)\n",
    "    sklearn_tfidf.fit(test_text)\n",
    "    test_text_sklearn_tfidf = sklearn_tfidf.transform(test_text)\n",
    "    print(np.round(np.flip(test_text_idf, axis=1), 3))\n",
    "    print()\n",
    "    print(np.round(test_text_sklearn_tfidf.todense(), 3))"
   ]
  },
  {
   "cell_type": "code",
   "execution_count": 22,
   "metadata": {},
   "outputs": [
    {
     "name": "stdout",
     "output_type": "stream",
     "text": [
      "[[0.    0.559 0.559 0.396 0.468]\n",
      " [0.    0.    0.    0.    1.   ]\n",
      " [0.    0.    0.    0.    1.   ]\n",
      " [0.772 0.    0.    0.548 0.323]]\n",
      "\n",
      "[[0.    0.396 0.559 0.559 0.468]\n",
      " [0.    0.    0.    0.    1.   ]\n",
      " [0.    0.    0.    0.    1.   ]\n",
      " [0.772 0.548 0.    0.    0.323]]\n"
     ]
    }
   ],
   "source": [
    "test_tfidf()"
   ]
  },
  {
   "cell_type": "code",
   "execution_count": 23,
   "metadata": {},
   "outputs": [],
   "source": [
    "k = min(10000, len(set(' '.join(texts_train).split())))"
   ]
  },
  {
   "cell_type": "code",
   "execution_count": 24,
   "metadata": {},
   "outputs": [],
   "source": [
    "tfidf = TfIdf(k, normalize=True)"
   ]
  },
  {
   "cell_type": "code",
   "execution_count": 25,
   "metadata": {},
   "outputs": [
    {
     "data": {
      "text/plain": [
       "<__main__.TfIdf at 0x7f064dfe9b70>"
      ]
     },
     "execution_count": 25,
     "metadata": {},
     "output_type": "execute_result"
    }
   ],
   "source": [
    "tfidf.fit(texts_train)"
   ]
  },
  {
   "cell_type": "code",
   "execution_count": 26,
   "metadata": {},
   "outputs": [],
   "source": [
    "X_train_tfidf = tfidf.transform(texts_train)\n",
    "X_test_tfidf = tfidf.transform(texts_test)"
   ]
  },
  {
   "cell_type": "code",
   "execution_count": 27,
   "metadata": {
    "id": "aC0IcbVRwQ12"
   },
   "outputs": [],
   "source": [
    "tfidf_model = LogisticRegression().fit(X_train_tfidf, y_train)"
   ]
  },
  {
   "cell_type": "code",
   "execution_count": 28,
   "metadata": {},
   "outputs": [
    {
     "data": {
      "image/png": "[encoded data removed]",
      "text/plain": [
       "<Figure size 432x288 with 1 Axes>"
      ]
     },
     "metadata": {
      "needs_background": "light"
     },
     "output_type": "display_data"
    }
   ],
   "source": [
    "for name, X, y, model in [\n",
    "    ('train', X_train_tfidf, y_train, tfidf_model),\n",
    "    ('test ', X_test_tfidf, y_test, tfidf_model)\n",
    "]:\n",
    "    proba = model.predict_proba(X)[:, 1]\n",
    "    auc = roc_auc_score(y, proba)\n",
    "    plt.plot(*roc_curve(y, proba)[:2], label='%s AUC=%.4f' % (name, auc))\n",
    "\n",
    "plt.plot([0, 1], [0, 1], '--', color='black',)\n",
    "plt.legend(fontsize='large')\n",
    "plt.grid()"
   ]
  },
  {
   "cell_type": "markdown",
   "metadata": {
    "id": "OU5RooGOwQ13"
   },
   "source": [
    "### Шаг 3: Наивный Байесовский классификатор\n",
    "\n",
    "Naive Bayes classifier – хороший базовый выбор для простых задач. Обучите Naive Bayes на BoW и TF-IDF признаках и сравните результаты с логистической регрессией. Какие выводы о качестве вы можете сделать?"
   ]
  },
  {
   "cell_type": "code",
   "execution_count": 139,
   "metadata": {},
   "outputs": [],
   "source": [
    "from sklearn.naive_bayes import MultinomialNB, GaussianNB"
   ]
  },
  {
   "cell_type": "code",
   "execution_count": 30,
   "metadata": {
    "id": "lbEuhQKFwQ13"
   },
   "outputs": [],
   "source": [
    "bow_nb_model = MultinomialNB().fit(X_train_bow, y_train)\n",
    "tfidf_nb_model = MultinomialNB().fit(X_train_tfidf, y_train)"
   ]
  },
  {
   "cell_type": "code",
   "execution_count": 31,
   "metadata": {},
   "outputs": [
    {
     "data": {
      "image/png": "[encoded data removed]",
      "text/plain": [
       "<Figure size 432x288 with 1 Axes>"
      ]
     },
     "metadata": {
      "needs_background": "light"
     },
     "output_type": "display_data"
    }
   ],
   "source": [
    "for name, X, y, model in [\n",
    "    ('train', X_train_bow, y_train, bow_nb_model),\n",
    "    ('test ', X_test_bow, y_test, bow_nb_model)\n",
    "]:\n",
    "    proba = model.predict_proba(X)[:, 1]\n",
    "    auc = roc_auc_score(y, proba)\n",
    "    plt.plot(*roc_curve(y, proba)[:2], label='%s AUC=%.4f' % (name, auc))\n",
    "\n",
    "plt.plot([0, 1], [0, 1], '--', color='black',)\n",
    "plt.legend(fontsize='large')\n",
    "plt.title('Naive Bayes (BOW)')\n",
    "plt.grid()"
   ]
  },
  {
   "cell_type": "code",
   "execution_count": 32,
   "metadata": {},
   "outputs": [
    {
     "data": {
      "image/png": "[encoded data removed]",
      "text/plain": [
       "<Figure size 432x288 with 1 Axes>"
      ]
     },
     "metadata": {
      "needs_background": "light"
     },
     "output_type": "display_data"
    }
   ],
   "source": [
    "for name, X, y, model in [\n",
    "    ('train', X_train_tfidf, y_train, tfidf_nb_model),\n",
    "    ('test ', X_test_tfidf, y_test, tfidf_nb_model)\n",
    "]:\n",
    "    proba = model.predict_proba(X)[:, 1]\n",
    "    auc = roc_auc_score(y, proba)\n",
    "    plt.plot(*roc_curve(y, proba)[:2], label='%s AUC=%.4f' % (name, auc))\n",
    "\n",
    "plt.plot([0, 1], [0, 1], '--', color='black',)\n",
    "plt.legend(fontsize='large')\n",
    "plt.title('Naive Bayes (Tf-iDF)')\n",
    "plt.grid()"
   ]
  },
  {
   "cell_type": "markdown",
   "metadata": {
    "id": "whGIMKtKwQ14"
   },
   "source": [
    "__Ваши промежуточные выводы:__"
   ]
  },
  {
   "cell_type": "markdown",
   "metadata": {},
   "source": [
    "Без настройки параметров алгоритмов и использования их \"из коробки\" лучшее качество показывает tf-idf ембединги и модель наивного Байеса"
   ]
  },
  {
   "cell_type": "markdown",
   "metadata": {
    "id": "q4K-QdWBwQ14"
   },
   "source": [
    "### Шаг 4: Использование предобученных эмбеддингов\n",
    "\n",
    "Воспользуйтесь предобученными эмбеддингами из `gensim` (или `fasttext`) и преобразуйте тексты в векторный вид. \n",
    "Для получения векторного представления для всего текста можно просто усреднить все вектора. По аналогии с Bag of Words такой подход можно было бы назвать \"Bag of Embeddings\".\n",
    "\n",
    "Общая процедура построения выглядит следующим образом:\n",
    "1. Поставить каждому слову в соответствие вектор из `gensim` или `fasttext`. Если слово отсутствует в словаре, его можно пропустить.\n",
    "2. Для каждого текста усреднить вектора слов, вошедших в этот текст. Если все слова отсутствуют в словаре, то вы можете исключить данный пример из рассмотрения.\n",
    "3. На основе полученных признаков решите задачу классификации с помощью логистической регрессии, наивного Байесовского классификатора и какой-либо третьей модели (на ваш выбор).\n",
    "\n",
    "Сравните полученные результаты с предыдущими подходами. \n",
    "\n",
    "\n",
    "Для простоты можете использовать усредненный вектор для всех слов. Сравните результаты с предыдущими подходами, сделайте выводы."
   ]
  },
  {
   "cell_type": "code",
   "execution_count": 33,
   "metadata": {},
   "outputs": [],
   "source": [
    "import fasttext.util"
   ]
  },
  {
   "cell_type": "code",
   "execution_count": 34,
   "metadata": {
    "id": "ivMDzqWXwQ14"
   },
   "outputs": [
    {
     "name": "stderr",
     "output_type": "stream",
     "text": [
      "Warning : `load_model` does not return WordVectorModel or SupervisedModel any more, but a `FastText` object which is very similar.\n"
     ]
    }
   ],
   "source": [
    "# fasttext.util.download_model('en', if_exists='ignore')  # English\n",
    "ft = fasttext.load_model('cc.en.300.bin')"
   ]
  },
  {
   "cell_type": "code",
   "execution_count": 127,
   "metadata": {},
   "outputs": [],
   "source": [
    "def fasttext_transform(texts, normalize=True):\n",
    "    result = None\n",
    "    for text in texts:\n",
    "        text_embedding = np.array([ft.get_word_vector(word) for word in text.split()]).mean(axis=0)\n",
    "        if normalize:\n",
    "            text_embedding = text_embedding / (np.linalg.norm(text_embedding) + 1e-8)\n",
    "        if result is None:\n",
    "            result = text_embedding\n",
    "        else:\n",
    "            result = np.vstack((result, text_embedding))\n",
    "    return result"
   ]
  },
  {
   "cell_type": "code",
   "execution_count": 128,
   "metadata": {},
   "outputs": [],
   "source": [
    "X_train_ft = fasttext_transform(texts_train)\n",
    "X_test_ft = fasttext_transform(texts_test)"
   ]
  },
  {
   "cell_type": "code",
   "execution_count": 130,
   "metadata": {},
   "outputs": [],
   "source": [
    "ft_model = LogisticRegression().fit(X_train_ft, y_train)"
   ]
  },
  {
   "cell_type": "code",
   "execution_count": 149,
   "metadata": {},
   "outputs": [
    {
     "data": {
      "image/png": "[encoded data removed]",
      "text/plain": [
       "<Figure size 432x288 with 1 Axes>"
      ]
     },
     "metadata": {
      "needs_background": "light"
     },
     "output_type": "display_data"
    }
   ],
   "source": [
    "plt.hist(X_train_ft[:, 0]);"
   ]
  },
  {
   "cell_type": "code",
   "execution_count": 143,
   "metadata": {},
   "outputs": [],
   "source": [
    "ft_nb_model = GaussianNB().fit(X_train_ft, y_train)"
   ]
  },
  {
   "cell_type": "code",
   "execution_count": 144,
   "metadata": {},
   "outputs": [
    {
     "data": {
      "image/png": "[encoded data removed]",
      "text/plain": [
       "<Figure size 432x288 with 1 Axes>"
      ]
     },
     "metadata": {
      "needs_background": "light"
     },
     "output_type": "display_data"
    }
   ],
   "source": [
    "for name, X, y, model in [\n",
    "    ('train', X_train_ft, y_train, ft_model),\n",
    "    ('test ', X_test_ft, y_test, ft_model)\n",
    "]:\n",
    "    proba = model.predict_proba(X)[:, 1]\n",
    "    auc = roc_auc_score(y, proba)\n",
    "    plt.plot(*roc_curve(y, proba)[:2], label='%s AUC=%.4f' % (name, auc))\n",
    "\n",
    "plt.plot([0, 1], [0, 1], '--', color='black',)\n",
    "plt.legend(fontsize='large')\n",
    "plt.grid()"
   ]
  },
  {
   "cell_type": "code",
   "execution_count": 145,
   "metadata": {},
   "outputs": [
    {
     "data": {
      "image/png": "[encoded data removed]",
      "text/plain": [
       "<Figure size 432x288 with 1 Axes>"
      ]
     },
     "metadata": {
      "needs_background": "light"
     },
     "output_type": "display_data"
    }
   ],
   "source": [
    "for name, X, y, model in [\n",
    "    ('train', X_train_ft, y_train, ft_nb_model),\n",
    "    ('test ', X_test_ft, y_test, ft_nb_model)\n",
    "]:\n",
    "    proba = model.predict_proba(X)[:, 1]\n",
    "    auc = roc_auc_score(y, proba)\n",
    "    plt.plot(*roc_curve(y, proba)[:2], label='%s AUC=%.4f' % (name, auc))\n",
    "\n",
    "plt.plot([0, 1], [0, 1], '--', color='black',)\n",
    "plt.legend(fontsize='large')\n",
    "plt.grid()"
   ]
  },
  {
   "cell_type": "markdown",
   "metadata": {
    "id": "zVS6bqJEwQ15"
   },
   "source": [
    "Ваши выводы:\n"
   ]
  },
  {
   "cell_type": "code",
   "execution_count": null,
   "metadata": {},
   "outputs": [],
   "source": []
  },
  {
   "cell_type": "markdown",
   "metadata": {
    "id": "paKzffKLwQ16"
   },
   "source": [
    "Пожалуйста, оставьте обратную связь о задании [по ссылке](http://rebrand.ly/mfnlp2020q4_feedback_hw01). Она (при желании) анонимна ;)"
   ]
  }
 ],
 "metadata": {
  "colab": {
   "name": "hw1__Word_Vectors.ipynb",
   "provenance": []
  },
  "kernelspec": {
   "display_name": "Python 3",
   "language": "python",
   "name": "python3"
  },
  "language_info": {
   "codemirror_mode": {
    "name": "ipython",
    "version": 3
   },
   "file_extension": ".py",
   "mimetype": "text/x-python",
   "name": "python",
   "nbconvert_exporter": "python",
   "pygments_lexer": "ipython3",
   "version": "3.6.8"
  }
 },
 "nbformat": 4,
 "nbformat_minor": 1
}
